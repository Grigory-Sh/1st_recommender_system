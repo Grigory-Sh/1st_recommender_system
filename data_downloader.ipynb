{
 "cells": [
  {
   "cell_type": "code",
   "execution_count": 1,
   "id": "d2e7cb71",
   "metadata": {},
   "outputs": [],
   "source": [
    "# импортируем библиотек\n",
    "import pandas as pd\n",
    "import numpy as np"
   ]
  },
  {
   "cell_type": "code",
   "execution_count": 2,
   "id": "25dfc364",
   "metadata": {},
   "outputs": [],
   "source": [
    "# cкачиваем все данные из user_data\n",
    "user_data = pd.read_sql(\n",
    "    \"SELECT * FROM public.user_data\",\n",
    "    \"postgresql://robot-startml-ro:pheiph0hahj1Vaif@\"\"postgres.lab.karpov.courses:6432/startml\"\n",
    ")\n",
    "# записываем user_data в файл\n",
    "user_data.to_csv('user_data.csv', index=False)"
   ]
  },
  {
   "cell_type": "code",
   "execution_count": 3,
   "id": "e60b80b2",
   "metadata": {},
   "outputs": [],
   "source": [
    "# скачиваем среднее по target по каждому user_id из feed_data\n",
    "user_stat = pd.read_sql(\n",
    "    \"SELECT user_id, AVG(target) AS user_stat FROM public.feed_data GROUP BY user_id\",\n",
    "    \"postgresql://robot-startml-ro:pheiph0hahj1Vaif@\"\"postgres.lab.karpov.courses:6432/startml\"\n",
    ")\n",
    "# записываем user_data в файл\n",
    "user_stat.to_csv('user_stat.csv', index=False)"
   ]
  },
  {
   "cell_type": "code",
   "execution_count": 4,
   "id": "2b659dda",
   "metadata": {},
   "outputs": [],
   "source": [
    "# cкачиваем все данные из post_text\n",
    "post_text = pd.read_sql(\n",
    "    \"SELECT * FROM public.post_text_df\",\n",
    "    \"postgresql://robot-startml-ro:pheiph0hahj1Vaif@\"\"postgres.lab.karpov.courses:6432/startml\"\n",
    ")\n",
    "# записываем post_text в файл\n",
    "post_text.to_csv('post_text.csv', index=False)"
   ]
  },
  {
   "cell_type": "code",
   "execution_count": 5,
   "id": "9bc2c5af",
   "metadata": {},
   "outputs": [],
   "source": [
    "# скачиваем среднее по target по каждому post_id из feed_data\n",
    "post_stat = pd.read_sql(\n",
    "    \"SELECT post_id, AVG(target) AS post_stat FROM public.feed_data GROUP BY post_id\",\n",
    "    \"postgresql://robot-startml-ro:pheiph0hahj1Vaif@\"\"postgres.lab.karpov.courses:6432/startml\"\n",
    ")\n",
    "# записываем post_text в файл\n",
    "post_stat.to_csv('post_stat.csv', index=False)"
   ]
  },
  {
   "cell_type": "code",
   "execution_count": 6,
   "id": "9f2d6563",
   "metadata": {},
   "outputs": [],
   "source": [
    "# скачиваем последние 100 тысяч записей в feed_data\n",
    "feed_data_100 = pd.read_sql(\n",
    "    \"SELECT * FROM public.feed_data WHERE action = 'view' ORDER BY timestamp DESC LIMIT 100000\",\n",
    "    \"postgresql://robot-startml-ro:pheiph0hahj1Vaif@\"\"postgres.lab.karpov.courses:6432/startml\"\n",
    ")\n",
    "# записываем feed_data_100 в файл\n",
    "feed_data_100.to_csv('feed_data_100.csv', index=False)"
   ]
  }
 ],
 "metadata": {
  "kernelspec": {
   "display_name": "Python 3.10.7 64-bit",
   "language": "python",
   "name": "python3"
  },
  "language_info": {
   "codemirror_mode": {
    "name": "ipython",
    "version": 3
   },
   "file_extension": ".py",
   "mimetype": "text/x-python",
   "name": "python",
   "nbconvert_exporter": "python",
   "pygments_lexer": "ipython3",
   "version": "3.10.7"
  },
  "vscode": {
   "interpreter": {
    "hash": "6f6e3b0ee54f96a09601f5bd9d9e22617a546e266b81c92c7eca224313b467ca"
   }
  }
 },
 "nbformat": 4,
 "nbformat_minor": 5
}
