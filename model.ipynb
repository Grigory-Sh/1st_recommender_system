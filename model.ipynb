{
 "cells": [
  {
   "cell_type": "code",
   "execution_count": 1,
   "id": "c13d2459-aaa2-4041-9444-d1d8b881ae5c",
   "metadata": {},
   "outputs": [],
   "source": [
    "import pandas as pd\n",
    "import numpy as np"
   ]
  },
  {
   "cell_type": "markdown",
   "id": "10a1cfab",
   "metadata": {},
   "source": [
    "Загружаем данные из ранее сохранённых файлов"
   ]
  },
  {
   "cell_type": "code",
   "execution_count": 2,
   "id": "396b6637-b394-4765-87ac-58015658c205",
   "metadata": {},
   "outputs": [],
   "source": [
    "post_text = pd.read_csv('post_text.csv')"
   ]
  },
  {
   "cell_type": "code",
   "execution_count": 3,
   "id": "ebef8103",
   "metadata": {},
   "outputs": [],
   "source": [
    "post_stat = pd.read_csv('post_stat.csv')"
   ]
  },
  {
   "cell_type": "code",
   "execution_count": 4,
   "id": "4d6573f3",
   "metadata": {},
   "outputs": [],
   "source": [
    "user_data = pd.read_csv('user_data.csv')"
   ]
  },
  {
   "cell_type": "code",
   "execution_count": 5,
   "id": "52cf7f00",
   "metadata": {},
   "outputs": [],
   "source": [
    "user_stat = pd.read_csv('user_stat.csv')"
   ]
  },
  {
   "cell_type": "code",
   "execution_count": 6,
   "id": "f2cdd28c-44bc-44ba-90d2-71bbc158e353",
   "metadata": {},
   "outputs": [],
   "source": [
    "feed_data = pd.read_csv('feed_data_100.csv')\n",
    "feed_data.sort_values('timestamp', inplace=True, ignore_index=True)"
   ]
  },
  {
   "cell_type": "markdown",
   "id": "a7ba7abc",
   "metadata": {},
   "source": [
    "В таблице feed_data есть колонка 'target', она будет являться целевой в нашем обучении.\n",
    "\n",
    "0 - пост не получил like от пользователя, которому был показан.\n",
    "\n",
    "1 - пост получил like."
   ]
  },
  {
   "cell_type": "markdown",
   "id": "92c51975",
   "metadata": {},
   "source": [
    "При помощи метода TF-IDF в таблице post_text преобразуем текстовую колонку 'text' в векторный вид.\n",
    "Из получившейся матрицы возьмём построчный максимум."
   ]
  },
  {
   "cell_type": "code",
   "execution_count": 7,
   "id": "71feb0c8",
   "metadata": {},
   "outputs": [],
   "source": [
    "from sklearn.feature_extraction.text import TfidfVectorizer\n",
    "\n",
    "post_text_copy = post_text.copy()\n",
    "\n",
    "vectorizer = TfidfVectorizer()\n",
    "F = vectorizer.fit_transform(post_text['text'])\n",
    "post_text_copy['text'] = F.toarray().max(axis=1)"
   ]
  },
  {
   "cell_type": "markdown",
   "id": "2ef0ec48",
   "metadata": {},
   "source": [
    "Соединяем таблицы по колонкам post_id и user_id."
   ]
  },
  {
   "cell_type": "code",
   "execution_count": 8,
   "id": "900a356a",
   "metadata": {},
   "outputs": [],
   "source": [
    "df = pd.merge(feed_data,\n",
    "              post_text_copy,\n",
    "              on='post_id',\n",
    "              how='left')"
   ]
  },
  {
   "cell_type": "code",
   "execution_count": 9,
   "id": "f0af9144",
   "metadata": {},
   "outputs": [],
   "source": [
    "df = pd.merge(df,\n",
    "              post_stat,\n",
    "              on='post_id',\n",
    "              how='left')"
   ]
  },
  {
   "cell_type": "code",
   "execution_count": 10,
   "id": "6cb7c5da-8f74-4a70-80b1-4da84baa43db",
   "metadata": {
    "scrolled": true
   },
   "outputs": [],
   "source": [
    "df = pd.merge(df,\n",
    "              user_data,\n",
    "              on='user_id',\n",
    "              how='left')"
   ]
  },
  {
   "cell_type": "code",
   "execution_count": 11,
   "id": "453a8a01",
   "metadata": {},
   "outputs": [],
   "source": [
    "df = pd.merge(df,\n",
    "              user_stat,\n",
    "              on='user_id',\n",
    "              how='left')"
   ]
  },
  {
   "cell_type": "markdown",
   "id": "72584269",
   "metadata": {},
   "source": [
    "Из колонки timestamp выделяем дополнительные признаки: год, месяц, день, час, минута, секунда. А исходную колонку удаляем."
   ]
  },
  {
   "cell_type": "code",
   "execution_count": 12,
   "id": "d71c5ce7-f267-41b8-9fc3-9fbf907c33b5",
   "metadata": {},
   "outputs": [],
   "source": [
    "from datetime import datetime as dt\n",
    "\n",
    "df['timestamp'] = df['timestamp'].astype('datetime64')\n",
    "\n",
    "df['year'] = df['timestamp'].dt.year.astype('object')\n",
    "df['month'] = df['timestamp'].dt.month.astype('object')\n",
    "df['day'] = df['timestamp'].dt.day.astype('object')\n",
    "df['hour'] = df['timestamp'].dt.hour.astype('object')\n",
    "df['minute'] = df['timestamp'].dt.minute.astype('object')\n",
    "df['second'] = df['timestamp'].dt.second.astype('object')\n",
    "\n",
    "df = df.drop('timestamp', axis=1)"
   ]
  },
  {
   "cell_type": "markdown",
   "id": "98879758",
   "metadata": {},
   "source": [
    "Делим сгруппированый набор данных на признаки \"X\" и целевую колонку \"Y\"."
   ]
  },
  {
   "cell_type": "code",
   "execution_count": 13,
   "id": "5107635f",
   "metadata": {},
   "outputs": [],
   "source": [
    "X = df.drop(['user_id', 'post_id', 'action', 'target'], axis=1)\n",
    "y = df['target']"
   ]
  },
  {
   "cell_type": "markdown",
   "id": "9e36a2e9",
   "metadata": {},
   "source": [
    "Делим колонки в таблице признаков на числовые и категориальные."
   ]
  },
  {
   "cell_type": "code",
   "execution_count": 14,
   "id": "25681e44",
   "metadata": {},
   "outputs": [],
   "source": [
    "numeric_columns = list(X.select_dtypes(exclude='object').columns)\n",
    "categorical_columns = list(X.select_dtypes(include='object').columns)\n",
    "\n",
    "numeric_columns_ind = [list(X.columns).index(col) for col in numeric_columns]\n",
    "columns_ohe_ind = [list(X.columns).index(col) for col in categorical_columns]"
   ]
  },
  {
   "cell_type": "markdown",
   "id": "f6d9567e",
   "metadata": {},
   "source": [
    "Создаём трансформер, который будет преобразовывать данные признаков следующим образом: числовые признаки стандартизирует, а к категориальным применит метод One-Hot."
   ]
  },
  {
   "cell_type": "code",
   "execution_count": 15,
   "id": "e6ce011f",
   "metadata": {},
   "outputs": [],
   "source": [
    "from sklearn.preprocessing import StandardScaler\n",
    "from category_encoders.one_hot import OneHotEncoder\n",
    "from sklearn.compose import ColumnTransformer\n",
    "\n",
    "t = [('StandardScaler', StandardScaler(), numeric_columns_ind),\n",
    "     ('OneHotEncoder', OneHotEncoder(), columns_ohe_ind)]\n",
    "\n",
    "columns_transformer = ColumnTransformer(transformers=t)"
   ]
  },
  {
   "cell_type": "markdown",
   "id": "90d6d561",
   "metadata": {},
   "source": [
    "Делим данные на тренеровочные и тестовые."
   ]
  },
  {
   "cell_type": "code",
   "execution_count": 16,
   "id": "919eca6c",
   "metadata": {},
   "outputs": [],
   "source": [
    "from sklearn.model_selection import train_test_split\n",
    "\n",
    "X_train, X_test, y_train, y_test = train_test_split(X,\n",
    "                                                    y,\n",
    "                                                    test_size=0.2,\n",
    "                                                    random_state=1)"
   ]
  },
  {
   "cell_type": "markdown",
   "id": "3fda4d6d",
   "metadata": {},
   "source": [
    "Проверяем баланс классов на тренеровке и на тесте."
   ]
  },
  {
   "cell_type": "code",
   "execution_count": 17,
   "id": "76a290e8-a64c-491f-94d1-d2f56bd1e47a",
   "metadata": {},
   "outputs": [
    {
     "data": {
      "text/plain": [
       "0.1566875"
      ]
     },
     "execution_count": 17,
     "metadata": {},
     "output_type": "execute_result"
    }
   ],
   "source": [
    "y_train.value_counts()[1] / len(y_train)"
   ]
  },
  {
   "cell_type": "code",
   "execution_count": 18,
   "id": "12b4dc13-3750-467f-9ec3-8b8c7fa7b3a2",
   "metadata": {},
   "outputs": [
    {
     "data": {
      "text/plain": [
       "0.158"
      ]
     },
     "execution_count": 18,
     "metadata": {},
     "output_type": "execute_result"
    }
   ],
   "source": [
    "y_test.value_counts()[1] / len(y_test)"
   ]
  },
  {
   "cell_type": "markdown",
   "id": "ac315194",
   "metadata": {},
   "source": [
    "Стоит отметить, что в данных, на которых выполняется обучение, целевые классы имеют явный дисбаланс: класс 1 порядка 16%. При разбивке данных на тренеровочные и тестывые соотношение классов будем считать приемлемым."
   ]
  },
  {
   "cell_type": "markdown",
   "id": "f48bc370",
   "metadata": {},
   "source": [
    "При помощи Pipeline проводим обучение модели CatBoostClassifier. Параметры модели были подобранны вручную."
   ]
  },
  {
   "cell_type": "code",
   "execution_count": 19,
   "id": "1361f7ec",
   "metadata": {},
   "outputs": [],
   "source": [
    "from sklearn.pipeline import Pipeline\n",
    "from catboost import CatBoostClassifier"
   ]
  },
  {
   "cell_type": "code",
   "execution_count": 20,
   "id": "d46ec505",
   "metadata": {},
   "outputs": [
    {
     "name": "stdout",
     "output_type": "stream",
     "text": [
      "Learning rate set to 0.5\n",
      "0:\tlearn: 0.5116462\ttotal: 170ms\tremaining: 1.53s\n",
      "1:\tlearn: 0.4520025\ttotal: 189ms\tremaining: 756ms\n",
      "2:\tlearn: 0.4305365\ttotal: 205ms\tremaining: 478ms\n",
      "3:\tlearn: 0.4213956\ttotal: 221ms\tremaining: 331ms\n",
      "4:\tlearn: 0.4149518\ttotal: 237ms\tremaining: 237ms\n",
      "5:\tlearn: 0.4119717\ttotal: 253ms\tremaining: 169ms\n",
      "6:\tlearn: 0.4097816\ttotal: 268ms\tremaining: 115ms\n",
      "7:\tlearn: 0.4073799\ttotal: 284ms\tremaining: 71ms\n",
      "8:\tlearn: 0.4051426\ttotal: 299ms\tremaining: 33.2ms\n",
      "9:\tlearn: 0.4027736\ttotal: 315ms\tremaining: 0us\n",
      "Wall time: 7.89 s\n"
     ]
    },
    {
     "data": {
      "text/html": [
       "<style>#sk-container-id-1 {color: black;background-color: white;}#sk-container-id-1 pre{padding: 0;}#sk-container-id-1 div.sk-toggleable {background-color: white;}#sk-container-id-1 label.sk-toggleable__label {cursor: pointer;display: block;width: 100%;margin-bottom: 0;padding: 0.3em;box-sizing: border-box;text-align: center;}#sk-container-id-1 label.sk-toggleable__label-arrow:before {content: \"▸\";float: left;margin-right: 0.25em;color: #696969;}#sk-container-id-1 label.sk-toggleable__label-arrow:hover:before {color: black;}#sk-container-id-1 div.sk-estimator:hover label.sk-toggleable__label-arrow:before {color: black;}#sk-container-id-1 div.sk-toggleable__content {max-height: 0;max-width: 0;overflow: hidden;text-align: left;background-color: #f0f8ff;}#sk-container-id-1 div.sk-toggleable__content pre {margin: 0.2em;color: black;border-radius: 0.25em;background-color: #f0f8ff;}#sk-container-id-1 input.sk-toggleable__control:checked~div.sk-toggleable__content {max-height: 200px;max-width: 100%;overflow: auto;}#sk-container-id-1 input.sk-toggleable__control:checked~label.sk-toggleable__label-arrow:before {content: \"▾\";}#sk-container-id-1 div.sk-estimator input.sk-toggleable__control:checked~label.sk-toggleable__label {background-color: #d4ebff;}#sk-container-id-1 div.sk-label input.sk-toggleable__control:checked~label.sk-toggleable__label {background-color: #d4ebff;}#sk-container-id-1 input.sk-hidden--visually {border: 0;clip: rect(1px 1px 1px 1px);clip: rect(1px, 1px, 1px, 1px);height: 1px;margin: -1px;overflow: hidden;padding: 0;position: absolute;width: 1px;}#sk-container-id-1 div.sk-estimator {font-family: monospace;background-color: #f0f8ff;border: 1px dotted black;border-radius: 0.25em;box-sizing: border-box;margin-bottom: 0.5em;}#sk-container-id-1 div.sk-estimator:hover {background-color: #d4ebff;}#sk-container-id-1 div.sk-parallel-item::after {content: \"\";width: 100%;border-bottom: 1px solid gray;flex-grow: 1;}#sk-container-id-1 div.sk-label:hover label.sk-toggleable__label {background-color: #d4ebff;}#sk-container-id-1 div.sk-serial::before {content: \"\";position: absolute;border-left: 1px solid gray;box-sizing: border-box;top: 0;bottom: 0;left: 50%;z-index: 0;}#sk-container-id-1 div.sk-serial {display: flex;flex-direction: column;align-items: center;background-color: white;padding-right: 0.2em;padding-left: 0.2em;position: relative;}#sk-container-id-1 div.sk-item {position: relative;z-index: 1;}#sk-container-id-1 div.sk-parallel {display: flex;align-items: stretch;justify-content: center;background-color: white;position: relative;}#sk-container-id-1 div.sk-item::before, #sk-container-id-1 div.sk-parallel-item::before {content: \"\";position: absolute;border-left: 1px solid gray;box-sizing: border-box;top: 0;bottom: 0;left: 50%;z-index: -1;}#sk-container-id-1 div.sk-parallel-item {display: flex;flex-direction: column;z-index: 1;position: relative;background-color: white;}#sk-container-id-1 div.sk-parallel-item:first-child::after {align-self: flex-end;width: 50%;}#sk-container-id-1 div.sk-parallel-item:last-child::after {align-self: flex-start;width: 50%;}#sk-container-id-1 div.sk-parallel-item:only-child::after {width: 0;}#sk-container-id-1 div.sk-dashed-wrapped {border: 1px dashed gray;margin: 0 0.4em 0.5em 0.4em;box-sizing: border-box;padding-bottom: 0.4em;background-color: white;}#sk-container-id-1 div.sk-label label {font-family: monospace;font-weight: bold;display: inline-block;line-height: 1.2em;}#sk-container-id-1 div.sk-label-container {text-align: center;}#sk-container-id-1 div.sk-container {/* jupyter's `normalize.less` sets `[hidden] { display: none; }` but bootstrap.min.css set `[hidden] { display: none !important; }` so we also need the `!important` here to be able to override the default hidden behavior on the sphinx rendered scikit-learn.org. See: https://github.com/scikit-learn/scikit-learn/issues/21755 */display: inline-block !important;position: relative;}#sk-container-id-1 div.sk-text-repr-fallback {display: none;}</style><div id=\"sk-container-id-1\" class=\"sk-top-container\"><div class=\"sk-text-repr-fallback\"><pre>Pipeline(steps=[(&#x27;columns_transformer&#x27;,\n",
       "                 ColumnTransformer(transformers=[(&#x27;StandardScaler&#x27;,\n",
       "                                                  StandardScaler(),\n",
       "                                                  [0, 2, 3, 4, 7, 10]),\n",
       "                                                 (&#x27;OneHotEncoder&#x27;,\n",
       "                                                  OneHotEncoder(),\n",
       "                                                  [1, 5, 6, 8, 9, 11, 12, 13,\n",
       "                                                   14, 15, 16])])),\n",
       "                (&#x27;decision_tree&#x27;,\n",
       "                 &lt;catboost.core.CatBoostClassifier object at 0x000001BB08A6AA00&gt;)])</pre><b>In a Jupyter environment, please rerun this cell to show the HTML representation or trust the notebook. <br />On GitHub, the HTML representation is unable to render, please try loading this page with nbviewer.org.</b></div><div class=\"sk-container\" hidden><div class=\"sk-item sk-dashed-wrapped\"><div class=\"sk-label-container\"><div class=\"sk-label sk-toggleable\"><input class=\"sk-toggleable__control sk-hidden--visually\" id=\"sk-estimator-id-1\" type=\"checkbox\" ><label for=\"sk-estimator-id-1\" class=\"sk-toggleable__label sk-toggleable__label-arrow\">Pipeline</label><div class=\"sk-toggleable__content\"><pre>Pipeline(steps=[(&#x27;columns_transformer&#x27;,\n",
       "                 ColumnTransformer(transformers=[(&#x27;StandardScaler&#x27;,\n",
       "                                                  StandardScaler(),\n",
       "                                                  [0, 2, 3, 4, 7, 10]),\n",
       "                                                 (&#x27;OneHotEncoder&#x27;,\n",
       "                                                  OneHotEncoder(),\n",
       "                                                  [1, 5, 6, 8, 9, 11, 12, 13,\n",
       "                                                   14, 15, 16])])),\n",
       "                (&#x27;decision_tree&#x27;,\n",
       "                 &lt;catboost.core.CatBoostClassifier object at 0x000001BB08A6AA00&gt;)])</pre></div></div></div><div class=\"sk-serial\"><div class=\"sk-item sk-dashed-wrapped\"><div class=\"sk-label-container\"><div class=\"sk-label sk-toggleable\"><input class=\"sk-toggleable__control sk-hidden--visually\" id=\"sk-estimator-id-2\" type=\"checkbox\" ><label for=\"sk-estimator-id-2\" class=\"sk-toggleable__label sk-toggleable__label-arrow\">columns_transformer: ColumnTransformer</label><div class=\"sk-toggleable__content\"><pre>ColumnTransformer(transformers=[(&#x27;StandardScaler&#x27;, StandardScaler(),\n",
       "                                 [0, 2, 3, 4, 7, 10]),\n",
       "                                (&#x27;OneHotEncoder&#x27;, OneHotEncoder(),\n",
       "                                 [1, 5, 6, 8, 9, 11, 12, 13, 14, 15, 16])])</pre></div></div></div><div class=\"sk-parallel\"><div class=\"sk-parallel-item\"><div class=\"sk-item\"><div class=\"sk-label-container\"><div class=\"sk-label sk-toggleable\"><input class=\"sk-toggleable__control sk-hidden--visually\" id=\"sk-estimator-id-3\" type=\"checkbox\" ><label for=\"sk-estimator-id-3\" class=\"sk-toggleable__label sk-toggleable__label-arrow\">StandardScaler</label><div class=\"sk-toggleable__content\"><pre>[0, 2, 3, 4, 7, 10]</pre></div></div></div><div class=\"sk-serial\"><div class=\"sk-item\"><div class=\"sk-estimator sk-toggleable\"><input class=\"sk-toggleable__control sk-hidden--visually\" id=\"sk-estimator-id-4\" type=\"checkbox\" ><label for=\"sk-estimator-id-4\" class=\"sk-toggleable__label sk-toggleable__label-arrow\">StandardScaler</label><div class=\"sk-toggleable__content\"><pre>StandardScaler()</pre></div></div></div></div></div></div><div class=\"sk-parallel-item\"><div class=\"sk-item\"><div class=\"sk-label-container\"><div class=\"sk-label sk-toggleable\"><input class=\"sk-toggleable__control sk-hidden--visually\" id=\"sk-estimator-id-5\" type=\"checkbox\" ><label for=\"sk-estimator-id-5\" class=\"sk-toggleable__label sk-toggleable__label-arrow\">OneHotEncoder</label><div class=\"sk-toggleable__content\"><pre>[1, 5, 6, 8, 9, 11, 12, 13, 14, 15, 16]</pre></div></div></div><div class=\"sk-serial\"><div class=\"sk-item\"><div class=\"sk-estimator sk-toggleable\"><input class=\"sk-toggleable__control sk-hidden--visually\" id=\"sk-estimator-id-6\" type=\"checkbox\" ><label for=\"sk-estimator-id-6\" class=\"sk-toggleable__label sk-toggleable__label-arrow\">OneHotEncoder</label><div class=\"sk-toggleable__content\"><pre>OneHotEncoder()</pre></div></div></div></div></div></div></div></div><div class=\"sk-item\"><div class=\"sk-estimator sk-toggleable\"><input class=\"sk-toggleable__control sk-hidden--visually\" id=\"sk-estimator-id-7\" type=\"checkbox\" ><label for=\"sk-estimator-id-7\" class=\"sk-toggleable__label sk-toggleable__label-arrow\">CatBoostClassifier</label><div class=\"sk-toggleable__content\"><pre>&lt;catboost.core.CatBoostClassifier object at 0x000001BB08A6AA00&gt;</pre></div></div></div></div></div></div></div>"
      ],
      "text/plain": [
       "Pipeline(steps=[('columns_transformer',\n",
       "                 ColumnTransformer(transformers=[('StandardScaler',\n",
       "                                                  StandardScaler(),\n",
       "                                                  [0, 2, 3, 4, 7, 10]),\n",
       "                                                 ('OneHotEncoder',\n",
       "                                                  OneHotEncoder(),\n",
       "                                                  [1, 5, 6, 8, 9, 11, 12, 13,\n",
       "                                                   14, 15, 16])])),\n",
       "                ('decision_tree',\n",
       "                 <catboost.core.CatBoostClassifier object at 0x000001BB08A6AA00>)])"
      ]
     },
     "execution_count": 20,
     "metadata": {},
     "output_type": "execute_result"
    }
   ],
   "source": [
    "%%time\n",
    "\n",
    "pipe = Pipeline([('columns_transformer', columns_transformer),\n",
    "                 ('decision_tree', CatBoostClassifier(iterations = 10,\n",
    "                                                      loss_function = 'MultiClass',\n",
    "                                                      early_stopping_rounds=10,\n",
    "                                                      thread_count = 100,\n",
    "                                                      random_state=1))])\n",
    "pipe.fit(X_train, y_train)"
   ]
  },
  {
   "cell_type": "markdown",
   "id": "3c05dc8e",
   "metadata": {},
   "source": [
    "Сохраняем обученую модель."
   ]
  },
  {
   "cell_type": "code",
   "execution_count": 21,
   "id": "f2f5a676",
   "metadata": {},
   "outputs": [],
   "source": [
    "import pickle\n",
    "\n",
    "filename = 'cat_model.pkl'\n",
    "pickle.dump(pipe, open(filename, 'wb'))"
   ]
  },
  {
   "cell_type": "markdown",
   "id": "f5071f5a",
   "metadata": {},
   "source": [
    "Рассчитаем ROC-AUC для обученной модели на тестовых данных."
   ]
  },
  {
   "cell_type": "code",
   "execution_count": 22,
   "id": "b2f0e4bc",
   "metadata": {},
   "outputs": [
    {
     "name": "stdout",
     "output_type": "stream",
     "text": [
      "ROC-AUC 0.6770286896028143\n"
     ]
    }
   ],
   "source": [
    "from sklearn.metrics import roc_auc_score, accuracy_score\n",
    "\n",
    "print(f'ROC-AUC {roc_auc_score(y_test, pipe.predict_proba(X_test)[:, 1])}')"
   ]
  },
  {
   "cell_type": "markdown",
   "id": "8e9d1d7f",
   "metadata": {},
   "source": [
    "# Далее делаем пайплайн расчёта предсказаний\n",
    "Для для рандомного пользователя и рандомного времени получим предсказания от ранее обученной модели, чтобы проверить её работоспособность."
   ]
  },
  {
   "cell_type": "code",
   "execution_count": 24,
   "id": "b97093cb",
   "metadata": {},
   "outputs": [],
   "source": [
    "note = post_text.copy()\n",
    "\n",
    "vectorizer = TfidfVectorizer()\n",
    "F = vectorizer.fit_transform(note['text'])\n",
    "note['text'] = F.toarray().max(axis=1)"
   ]
  },
  {
   "cell_type": "code",
   "execution_count": 25,
   "id": "0d2f7429",
   "metadata": {},
   "outputs": [],
   "source": [
    "note = pd.merge(note,\n",
    "                post_stat,\n",
    "                on='post_id',\n",
    "                how='left')"
   ]
  },
  {
   "cell_type": "code",
   "execution_count": 26,
   "id": "b7e1d8be",
   "metadata": {},
   "outputs": [],
   "source": [
    "users = pd.merge(user_data,\n",
    "                 user_stat,\n",
    "                 on='user_id',\n",
    "                 how='left')"
   ]
  },
  {
   "cell_type": "code",
   "execution_count": 27,
   "id": "fba97c23",
   "metadata": {},
   "outputs": [],
   "source": [
    "id = 345"
   ]
  },
  {
   "cell_type": "code",
   "execution_count": 28,
   "id": "5b311a04",
   "metadata": {},
   "outputs": [],
   "source": [
    "time = dt(year=2021, month=10, day=30, hour=14)"
   ]
  },
  {
   "cell_type": "code",
   "execution_count": 29,
   "id": "54021b5b",
   "metadata": {},
   "outputs": [],
   "source": [
    "limit = 10"
   ]
  },
  {
   "cell_type": "code",
   "execution_count": 30,
   "id": "e3cdb7e4",
   "metadata": {},
   "outputs": [],
   "source": [
    "def add_user_time(note, pers, time):\n",
    "    note['gender'] = pers[0]\n",
    "    note['age'] = pers[1]\n",
    "    note['country'] = pers[2]\n",
    "    note['city'] = pers[3]\n",
    "    note['exp_group'] = pers[4]\n",
    "    note['os'] = pers[5]\n",
    "    note['source'] = pers[6]\n",
    "    note['user_stat'] = pers[7]\n",
    "    \n",
    "    note['year'] = time.year\n",
    "    note['month'] = time.month\n",
    "    note['day'] = time.day\n",
    "    note['hour'] = time.hour\n",
    "    note['minute'] = time.minute\n",
    "    note['second'] = time.second\n",
    "    note[['year', 'month', 'day', 'hour', 'minute', 'second']] = note[['year', 'month', 'day', 'hour', 'minute', 'second']].astype('object')\n",
    "\n",
    "    return note"
   ]
  },
  {
   "cell_type": "code",
   "execution_count": 31,
   "id": "19aac8c7",
   "metadata": {},
   "outputs": [
    {
     "name": "stdout",
     "output_type": "stream",
     "text": [
      "Wall time: 321 ms\n"
     ]
    },
    {
     "data": {
      "text/html": [
       "<div>\n",
       "<style scoped>\n",
       "    .dataframe tbody tr th:only-of-type {\n",
       "        vertical-align: middle;\n",
       "    }\n",
       "\n",
       "    .dataframe tbody tr th {\n",
       "        vertical-align: top;\n",
       "    }\n",
       "\n",
       "    .dataframe thead th {\n",
       "        text-align: right;\n",
       "    }\n",
       "</style>\n",
       "<table border=\"1\" class=\"dataframe\">\n",
       "  <thead>\n",
       "    <tr style=\"text-align: right;\">\n",
       "      <th></th>\n",
       "      <th>post_id</th>\n",
       "      <th>text</th>\n",
       "      <th>topic</th>\n",
       "    </tr>\n",
       "  </thead>\n",
       "  <tbody>\n",
       "    <tr>\n",
       "      <th>4101</th>\n",
       "      <td>4281</td>\n",
       "      <td>What we have here is a film perfect for anyone...</td>\n",
       "      <td>movie</td>\n",
       "    </tr>\n",
       "    <tr>\n",
       "      <th>4214</th>\n",
       "      <td>4395</td>\n",
       "      <td>Yes, I couldnt stop yawning, nor could my part...</td>\n",
       "      <td>movie</td>\n",
       "    </tr>\n",
       "    <tr>\n",
       "      <th>4378</th>\n",
       "      <td>4566</td>\n",
       "      <td>I feel very generous giving this movie a 2 out...</td>\n",
       "      <td>movie</td>\n",
       "    </tr>\n",
       "    <tr>\n",
       "      <th>4688</th>\n",
       "      <td>4889</td>\n",
       "      <td>This movie starts out very VERY slow, but when...</td>\n",
       "      <td>movie</td>\n",
       "    </tr>\n",
       "    <tr>\n",
       "      <th>4786</th>\n",
       "      <td>4979</td>\n",
       "      <td>Even if you could get past the idea that these...</td>\n",
       "      <td>movie</td>\n",
       "    </tr>\n",
       "    <tr>\n",
       "      <th>4945</th>\n",
       "      <td>5137</td>\n",
       "      <td>To be honest, I had no idea what this movie wa...</td>\n",
       "      <td>movie</td>\n",
       "    </tr>\n",
       "    <tr>\n",
       "      <th>5212</th>\n",
       "      <td>5423</td>\n",
       "      <td>The comments of the previous user are harsh in...</td>\n",
       "      <td>movie</td>\n",
       "    </tr>\n",
       "    <tr>\n",
       "      <th>5744</th>\n",
       "      <td>5982</td>\n",
       "      <td>I went to see this with my wife and 3 yr old s...</td>\n",
       "      <td>movie</td>\n",
       "    </tr>\n",
       "    <tr>\n",
       "      <th>5873</th>\n",
       "      <td>6119</td>\n",
       "      <td>A rather lame teen slasher from Brisbane. Whil...</td>\n",
       "      <td>movie</td>\n",
       "    </tr>\n",
       "    <tr>\n",
       "      <th>6818</th>\n",
       "      <td>7103</td>\n",
       "      <td>I knew I was in for a LONG 90 minutes when the...</td>\n",
       "      <td>movie</td>\n",
       "    </tr>\n",
       "  </tbody>\n",
       "</table>\n",
       "</div>"
      ],
      "text/plain": [
       "      post_id                                               text  topic\n",
       "4101     4281  What we have here is a film perfect for anyone...  movie\n",
       "4214     4395  Yes, I couldnt stop yawning, nor could my part...  movie\n",
       "4378     4566  I feel very generous giving this movie a 2 out...  movie\n",
       "4688     4889  This movie starts out very VERY slow, but when...  movie\n",
       "4786     4979  Even if you could get past the idea that these...  movie\n",
       "4945     5137  To be honest, I had no idea what this movie wa...  movie\n",
       "5212     5423  The comments of the previous user are harsh in...  movie\n",
       "5744     5982  I went to see this with my wife and 3 yr old s...  movie\n",
       "5873     6119  A rather lame teen slasher from Brisbane. Whil...  movie\n",
       "6818     7103  I knew I was in for a LONG 90 minutes when the...  movie"
      ]
     },
     "execution_count": 31,
     "metadata": {},
     "output_type": "execute_result"
    }
   ],
   "source": [
    "%%time\n",
    "\n",
    "pers = users[users['user_id']==id].drop('user_id', axis=1).iloc[0]\n",
    "\n",
    "pred = add_user_time(note, pers, time).drop('post_id', axis=1)\n",
    "\n",
    "predict = pd.DataFrame(post_text['post_id'])\n",
    "\n",
    "predict['predict'] = pipe.predict_proba(pred)[:,1]\n",
    "\n",
    "predict.sort_values('predict', ascending=False, inplace=True, ignore_index=True)\n",
    "\n",
    "posts = predict.head(limit)['post_id'].values\n",
    "\n",
    "posts = post_text[post_text['post_id'].isin(posts)]\n",
    "\n",
    "posts"
   ]
  }
 ],
 "metadata": {
  "kernelspec": {
   "display_name": "Python 3.10.7 64-bit",
   "language": "python",
   "name": "python3"
  },
  "language_info": {
   "codemirror_mode": {
    "name": "ipython",
    "version": 3
   },
   "file_extension": ".py",
   "mimetype": "text/x-python",
   "name": "python",
   "nbconvert_exporter": "python",
   "pygments_lexer": "ipython3",
   "version": "3.10.7"
  },
  "vscode": {
   "interpreter": {
    "hash": "6f6e3b0ee54f96a09601f5bd9d9e22617a546e266b81c92c7eca224313b467ca"
   }
  }
 },
 "nbformat": 4,
 "nbformat_minor": 5
}
